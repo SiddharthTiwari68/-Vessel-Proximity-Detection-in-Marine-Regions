{
 "cells": [
  {
   "cell_type": "code",
   "execution_count": 3,
   "id": "fe0fa7b1-b7d0-4ede-9414-2220a4e509bb",
   "metadata": {},
   "outputs": [
    {
     "name": "stdout",
     "output_type": "stream",
     "text": [
      "Requirement already satisfied: pandas in c:\\users\\admin\\appdata\\local\\programs\\python\\python312\\lib\\site-packages (2.2.2)\n",
      "Requirement already satisfied: numpy in c:\\users\\admin\\appdata\\local\\programs\\python\\python312\\lib\\site-packages (2.0.1)\n",
      "Requirement already satisfied: matplotlib in c:\\users\\admin\\appdata\\local\\programs\\python\\python312\\lib\\site-packages (3.9.1)\n",
      "Collecting geopy\n",
      "  Downloading geopy-2.4.1-py3-none-any.whl.metadata (6.8 kB)\n",
      "Requirement already satisfied: geopandas in c:\\users\\admin\\appdata\\local\\programs\\python\\python312\\lib\\site-packages (1.0.1)\n",
      "Requirement already satisfied: shapely in c:\\users\\admin\\appdata\\local\\programs\\python\\python312\\lib\\site-packages (2.0.6)\n",
      "Requirement already satisfied: python-dateutil>=2.8.2 in c:\\users\\admin\\appdata\\local\\programs\\python\\python312\\lib\\site-packages (from pandas) (2.9.0.post0)\n",
      "Requirement already satisfied: pytz>=2020.1 in c:\\users\\admin\\appdata\\local\\programs\\python\\python312\\lib\\site-packages (from pandas) (2024.1)\n",
      "Requirement already satisfied: tzdata>=2022.7 in c:\\users\\admin\\appdata\\local\\programs\\python\\python312\\lib\\site-packages (from pandas) (2024.1)\n",
      "Requirement already satisfied: contourpy>=1.0.1 in c:\\users\\admin\\appdata\\local\\programs\\python\\python312\\lib\\site-packages (from matplotlib) (1.2.1)\n",
      "Requirement already satisfied: cycler>=0.10 in c:\\users\\admin\\appdata\\local\\programs\\python\\python312\\lib\\site-packages (from matplotlib) (0.12.1)\n",
      "Requirement already satisfied: fonttools>=4.22.0 in c:\\users\\admin\\appdata\\local\\programs\\python\\python312\\lib\\site-packages (from matplotlib) (4.53.1)\n",
      "Requirement already satisfied: kiwisolver>=1.3.1 in c:\\users\\admin\\appdata\\local\\programs\\python\\python312\\lib\\site-packages (from matplotlib) (1.4.5)\n",
      "Requirement already satisfied: packaging>=20.0 in c:\\users\\admin\\appdata\\local\\programs\\python\\python312\\lib\\site-packages (from matplotlib) (24.0)\n",
      "Requirement already satisfied: pillow>=8 in c:\\users\\admin\\appdata\\local\\programs\\python\\python312\\lib\\site-packages (from matplotlib) (10.4.0)\n",
      "Requirement already satisfied: pyparsing>=2.3.1 in c:\\users\\admin\\appdata\\local\\programs\\python\\python312\\lib\\site-packages (from matplotlib) (3.1.2)\n",
      "Collecting geographiclib<3,>=1.52 (from geopy)\n",
      "  Downloading geographiclib-2.0-py3-none-any.whl.metadata (1.4 kB)\n",
      "Requirement already satisfied: pyogrio>=0.7.2 in c:\\users\\admin\\appdata\\local\\programs\\python\\python312\\lib\\site-packages (from geopandas) (0.9.0)\n",
      "Requirement already satisfied: pyproj>=3.3.0 in c:\\users\\admin\\appdata\\local\\programs\\python\\python312\\lib\\site-packages (from geopandas) (3.6.1)\n",
      "Requirement already satisfied: certifi in c:\\users\\admin\\appdata\\local\\programs\\python\\python312\\lib\\site-packages (from pyogrio>=0.7.2->geopandas) (2024.7.4)\n",
      "Requirement already satisfied: six>=1.5 in c:\\users\\admin\\appdata\\local\\programs\\python\\python312\\lib\\site-packages (from python-dateutil>=2.8.2->pandas) (1.16.0)\n",
      "Downloading geopy-2.4.1-py3-none-any.whl (125 kB)\n",
      "   ---------------------------------------- 0.0/125.4 kB ? eta -:--:--\n",
      "   --------- ------------------------------ 30.7/125.4 kB 1.4 MB/s eta 0:00:01\n",
      "   ---------------------------------------  122.9/125.4 kB 1.4 MB/s eta 0:00:01\n",
      "   -------------------------------------- 125.4/125.4 kB 822.8 kB/s eta 0:00:00\n",
      "Downloading geographiclib-2.0-py3-none-any.whl (40 kB)\n",
      "   ---------------------------------------- 0.0/40.3 kB ? eta -:--:--\n",
      "   ------------------------------ --------- 30.7/40.3 kB ? eta -:--:--\n",
      "   ---------------------------------------- 40.3/40.3 kB 385.7 kB/s eta 0:00:00\n",
      "Installing collected packages: geographiclib, geopy\n",
      "Successfully installed geographiclib-2.0 geopy-2.4.1\n"
     ]
    },
    {
     "name": "stderr",
     "output_type": "stream",
     "text": [
      "\n",
      "[notice] A new release of pip is available: 24.0 -> 24.2\n",
      "[notice] To update, run: python.exe -m pip install --upgrade pip\n"
     ]
    }
   ],
   "source": [
    "!pip install pandas numpy matplotlib geopy geopandas shapely\n",
    "\n"
   ]
  },
  {
   "cell_type": "code",
   "execution_count": 4,
   "id": "1a5e4f71-7974-4d30-81a8-084079177062",
   "metadata": {},
   "outputs": [],
   "source": [
    "import pandas as pd\n",
    "import numpy as np\n",
    "from geopy.distance import great_circle\n",
    "from datetime import datetime\n",
    "import matplotlib.pyplot as plt\n",
    "import geopandas as gpd\n",
    "from shapely.geometry import Point\n"
   ]
  },
  {
   "cell_type": "code",
   "execution_count": 8,
   "id": "e394da67-d5c9-4e7e-b58e-1b42568cda9f",
   "metadata": {},
   "outputs": [
    {
     "data": {
      "text/html": [
       "<div>\n",
       "<style scoped>\n",
       "    .dataframe tbody tr th:only-of-type {\n",
       "        vertical-align: middle;\n",
       "    }\n",
       "\n",
       "    .dataframe tbody tr th {\n",
       "        vertical-align: top;\n",
       "    }\n",
       "\n",
       "    .dataframe thead th {\n",
       "        text-align: right;\n",
       "    }\n",
       "</style>\n",
       "<table border=\"1\" class=\"dataframe\">\n",
       "  <thead>\n",
       "    <tr style=\"text-align: right;\">\n",
       "      <th></th>\n",
       "      <th>mmsi</th>\n",
       "      <th>timestamp</th>\n",
       "      <th>lat</th>\n",
       "      <th>lon</th>\n",
       "    </tr>\n",
       "  </thead>\n",
       "  <tbody>\n",
       "    <tr>\n",
       "      <th>0</th>\n",
       "      <td>565761000</td>\n",
       "      <td>2023-03-15 00:27:44+00</td>\n",
       "      <td>1.26878</td>\n",
       "      <td>103.75827</td>\n",
       "    </tr>\n",
       "    <tr>\n",
       "      <th>1</th>\n",
       "      <td>538008084</td>\n",
       "      <td>2023-03-19 23:30:00+00</td>\n",
       "      <td>43.55962</td>\n",
       "      <td>10.29404</td>\n",
       "    </tr>\n",
       "    <tr>\n",
       "      <th>2</th>\n",
       "      <td>564654000</td>\n",
       "      <td>2023-03-12 08:22:53+00</td>\n",
       "      <td>1.23725</td>\n",
       "      <td>103.89135</td>\n",
       "    </tr>\n",
       "    <tr>\n",
       "      <th>3</th>\n",
       "      <td>529123000</td>\n",
       "      <td>2023-03-05 16:47:42+00</td>\n",
       "      <td>29.44367</td>\n",
       "      <td>48.93066</td>\n",
       "    </tr>\n",
       "    <tr>\n",
       "      <th>4</th>\n",
       "      <td>564780000</td>\n",
       "      <td>2023-03-11 06:35:20+00</td>\n",
       "      <td>1.27755</td>\n",
       "      <td>103.61026</td>\n",
       "    </tr>\n",
       "  </tbody>\n",
       "</table>\n",
       "</div>"
      ],
      "text/plain": [
       "        mmsi               timestamp       lat        lon\n",
       "0  565761000  2023-03-15 00:27:44+00   1.26878  103.75827\n",
       "1  538008084  2023-03-19 23:30:00+00  43.55962   10.29404\n",
       "2  564654000  2023-03-12 08:22:53+00   1.23725  103.89135\n",
       "3  529123000  2023-03-05 16:47:42+00  29.44367   48.93066\n",
       "4  564780000  2023-03-11 06:35:20+00   1.27755  103.61026"
      ]
     },
     "execution_count": 8,
     "metadata": {},
     "output_type": "execute_result"
    }
   ],
   "source": [
    "df = pd.read_csv('sample_data.csv')\n",
    "df.head()"
   ]
  },
  {
   "cell_type": "code",
   "execution_count": 9,
   "id": "c70c0288-c05a-4c8c-95be-6b0788c7559b",
   "metadata": {},
   "outputs": [
    {
     "data": {
      "text/plain": [
       "mmsi         0\n",
       "timestamp    0\n",
       "lat          0\n",
       "lon          0\n",
       "dtype: int64"
      ]
     },
     "execution_count": 9,
     "metadata": {},
     "output_type": "execute_result"
    }
   ],
   "source": [
    "df.isnull().sum()"
   ]
  },
  {
   "cell_type": "code",
   "execution_count": 10,
   "id": "144b1fba-ca64-432c-b15a-01955c9c9756",
   "metadata": {},
   "outputs": [
    {
     "data": {
      "text/plain": [
       "mmsi           int64\n",
       "timestamp     object\n",
       "lat          float64\n",
       "lon          float64\n",
       "dtype: object"
      ]
     },
     "execution_count": 10,
     "metadata": {},
     "output_type": "execute_result"
    }
   ],
   "source": [
    "df.dtypes"
   ]
  },
  {
   "cell_type": "code",
   "execution_count": 11,
   "id": "943fe3e4-3935-4684-9729-683af8c7cd07",
   "metadata": {},
   "outputs": [
    {
     "name": "stdout",
     "output_type": "stream",
     "text": [
      "Distance: 3937.22 km\n"
     ]
    }
   ],
   "source": [
    "def haversine_distance(lat1, lon1, lat2, lon2):\n",
    "    \"\"\"Calculate the great-circle distance between two points on the Earth.\"\"\"\n",
    "    # Convert latitude and longitude from degrees to radians\n",
    "    lat1, lon1, lat2, lon2 = map(np.radians, [lat1, lon1, lat2, lon2])\n",
    "    \n",
    "    # Haversine formula\n",
    "    dlat = lat2 - lat1\n",
    "    dlon = lon2 - lon1\n",
    "    a = np.sin(dlat / 2.0)**2 + np.cos(lat1) * np.cos(lat2) * np.sin(dlon / 2.0)**2\n",
    "    c = 2 * np.arcsin(np.sqrt(a))\n",
    "    \n",
    "    # Earth's radius in kilometers (mean radius)\n",
    "    r = 6371.0\n",
    "    return c * r\n",
    "\n",
    "# Example usage\n",
    "lat1, lon1 = 40.748817, -73.985428  # New York\n",
    "lat2, lon2 = 34.052235, -118.243683  # Los Angeles\n",
    "distance = haversine_distance(lat1, lon1, lat2, lon2)\n",
    "print(f\"Distance: {distance:.2f} km\")\n"
   ]
  },
  {
   "cell_type": "code",
   "execution_count": 15,
   "id": "eb976b52-afd4-4274-be85-83d69d3613aa",
   "metadata": {},
   "outputs": [],
   "source": [
    "proximity_threshold_km = 0.5  # For example, 0.5 km\n"
   ]
  },
  {
   "cell_type": "code",
   "execution_count": 16,
   "id": "eb7dd2a3-7bb6-4da5-8593-05fa87516903",
   "metadata": {},
   "outputs": [
    {
     "data": {
      "text/html": [
       "<div>\n",
       "<style scoped>\n",
       "    .dataframe tbody tr th:only-of-type {\n",
       "        vertical-align: middle;\n",
       "    }\n",
       "\n",
       "    .dataframe tbody tr th {\n",
       "        vertical-align: top;\n",
       "    }\n",
       "\n",
       "    .dataframe thead th {\n",
       "        text-align: right;\n",
       "    }\n",
       "</style>\n",
       "<table border=\"1\" class=\"dataframe\">\n",
       "  <thead>\n",
       "    <tr style=\"text-align: right;\">\n",
       "      <th></th>\n",
       "      <th>timestamp</th>\n",
       "      <th>mmsi</th>\n",
       "      <th>vessel_proximity</th>\n",
       "    </tr>\n",
       "  </thead>\n",
       "  <tbody>\n",
       "    <tr>\n",
       "      <th>0</th>\n",
       "      <td>2023-03-05 07:30:00+00:00</td>\n",
       "      <td>564780000</td>\n",
       "      <td>563014650</td>\n",
       "    </tr>\n",
       "    <tr>\n",
       "      <th>1</th>\n",
       "      <td>2023-03-05 07:30:00+00:00</td>\n",
       "      <td>563014650</td>\n",
       "      <td>564780000</td>\n",
       "    </tr>\n",
       "    <tr>\n",
       "      <th>2</th>\n",
       "      <td>2023-03-05 08:30:00+00:00</td>\n",
       "      <td>563014650</td>\n",
       "      <td>564780000</td>\n",
       "    </tr>\n",
       "    <tr>\n",
       "      <th>3</th>\n",
       "      <td>2023-03-05 08:30:00+00:00</td>\n",
       "      <td>564780000</td>\n",
       "      <td>563014650</td>\n",
       "    </tr>\n",
       "    <tr>\n",
       "      <th>4</th>\n",
       "      <td>2023-03-05 09:30:00+00:00</td>\n",
       "      <td>564780000</td>\n",
       "      <td>563014650</td>\n",
       "    </tr>\n",
       "  </tbody>\n",
       "</table>\n",
       "</div>"
      ],
      "text/plain": [
       "                  timestamp       mmsi  vessel_proximity\n",
       "0 2023-03-05 07:30:00+00:00  564780000         563014650\n",
       "1 2023-03-05 07:30:00+00:00  563014650         564780000\n",
       "2 2023-03-05 08:30:00+00:00  563014650         564780000\n",
       "3 2023-03-05 08:30:00+00:00  564780000         563014650\n",
       "4 2023-03-05 09:30:00+00:00  564780000         563014650"
      ]
     },
     "execution_count": 16,
     "metadata": {},
     "output_type": "execute_result"
    }
   ],
   "source": [
    "def find_proximity_events(df, threshold_km):\n",
    "    df['timestamp'] = pd.to_datetime(df['timestamp'])\n",
    "    proximity_events = []\n",
    "    \n",
    "    # Group by timestamp to check proximity at each point in time\n",
    "    for timestamp, group in df.groupby('timestamp'):\n",
    "        mmsis = group['mmsi'].values\n",
    "        lat = group['lat'].values\n",
    "        lon = group['lon'].values\n",
    "        \n",
    "        for i in range(len(mmsis)):\n",
    "            for j in range(i + 1, len(mmsis)):\n",
    "                distance = haversine_distance(lat[i], lon[i], lat[j], lon[j])\n",
    "                \n",
    "                if distance <= threshold_km:\n",
    "                    proximity_events.append({\n",
    "                        'timestamp': timestamp,\n",
    "                        'mmsi': mmsis[i],\n",
    "                        'vessel_proximity': mmsis[j]\n",
    "                    })\n",
    "                    proximity_events.append({\n",
    "                        'timestamp': timestamp,\n",
    "                        'mmsi': mmsis[j],\n",
    "                        'vessel_proximity': mmsis[i]\n",
    "                    })\n",
    "    \n",
    "    return pd.DataFrame(proximity_events)\n",
    "\n",
    "# Generate proximity events\n",
    "proximity_df = find_proximity_events(df, proximity_threshold_km)\n",
    "proximity_df.head()\n"
   ]
  },
  {
   "cell_type": "code",
   "execution_count": 17,
   "id": "e8885e40-616f-4b62-8a8e-116808c02854",
   "metadata": {},
   "outputs": [
    {
     "data": {
      "text/html": [
       "<div>\n",
       "<style scoped>\n",
       "    .dataframe tbody tr th:only-of-type {\n",
       "        vertical-align: middle;\n",
       "    }\n",
       "\n",
       "    .dataframe tbody tr th {\n",
       "        vertical-align: top;\n",
       "    }\n",
       "\n",
       "    .dataframe thead th {\n",
       "        text-align: right;\n",
       "    }\n",
       "</style>\n",
       "<table border=\"1\" class=\"dataframe\">\n",
       "  <thead>\n",
       "    <tr style=\"text-align: right;\">\n",
       "      <th></th>\n",
       "      <th>mmsi</th>\n",
       "      <th>timestamp</th>\n",
       "      <th>vessel_proximity</th>\n",
       "    </tr>\n",
       "  </thead>\n",
       "  <tbody>\n",
       "    <tr>\n",
       "      <th>0</th>\n",
       "      <td>218719092</td>\n",
       "      <td>2023-03-14 18:30:00+00:00</td>\n",
       "      <td>[232345740]</td>\n",
       "    </tr>\n",
       "    <tr>\n",
       "      <th>1</th>\n",
       "      <td>218719092</td>\n",
       "      <td>2023-03-15 01:30:00+00:00</td>\n",
       "      <td>[875832716, 232006548, 889799564, 232345740]</td>\n",
       "    </tr>\n",
       "    <tr>\n",
       "      <th>2</th>\n",
       "      <td>218719092</td>\n",
       "      <td>2023-03-15 02:30:00+00:00</td>\n",
       "      <td>[232006548, 889799564, 232345740, 875832716]</td>\n",
       "    </tr>\n",
       "    <tr>\n",
       "      <th>3</th>\n",
       "      <td>218719092</td>\n",
       "      <td>2023-03-15 03:30:00+00:00</td>\n",
       "      <td>[232006548, 232345740, 875832716, 889799564]</td>\n",
       "    </tr>\n",
       "    <tr>\n",
       "      <th>4</th>\n",
       "      <td>218719092</td>\n",
       "      <td>2023-03-15 04:30:00+00:00</td>\n",
       "      <td>[232006548, 889799564, 875832716, 232345740]</td>\n",
       "    </tr>\n",
       "  </tbody>\n",
       "</table>\n",
       "</div>"
      ],
      "text/plain": [
       "        mmsi                 timestamp  \\\n",
       "0  218719092 2023-03-14 18:30:00+00:00   \n",
       "1  218719092 2023-03-15 01:30:00+00:00   \n",
       "2  218719092 2023-03-15 02:30:00+00:00   \n",
       "3  218719092 2023-03-15 03:30:00+00:00   \n",
       "4  218719092 2023-03-15 04:30:00+00:00   \n",
       "\n",
       "                               vessel_proximity  \n",
       "0                                   [232345740]  \n",
       "1  [875832716, 232006548, 889799564, 232345740]  \n",
       "2  [232006548, 889799564, 232345740, 875832716]  \n",
       "3  [232006548, 232345740, 875832716, 889799564]  \n",
       "4  [232006548, 889799564, 875832716, 232345740]  "
      ]
     },
     "execution_count": 17,
     "metadata": {},
     "output_type": "execute_result"
    }
   ],
   "source": [
    "# Grouping to combine proximity events for each vessel at each timestamp\n",
    "result_df = proximity_df.groupby(['mmsi', 'timestamp'])['vessel_proximity'].apply(list).reset_index()\n",
    "result_df.head()\n"
   ]
  },
  {
   "cell_type": "code",
   "execution_count": 19,
   "id": "1798cd3b-c3fc-429c-84e5-58d60ce64629",
   "metadata": {},
   "outputs": [
    {
     "data": {
      "image/png": "[encoded data removed]",
      "text/plain": [
       "<Figure size 1000x1000 with 1 Axes>"
      ]
     },
     "metadata": {},
     "output_type": "display_data"
    }
   ],
   "source": [
    "# Convert DataFrame to GeoDataFrame for plotting\n",
    "geometry = [Point(xy) for xy in zip(df['lon'], df['lat'])]\n",
    "geo_df = gpd.GeoDataFrame(df, geometry=geometry)\n",
    "\n",
    "# Plot the positions\n",
    "fig, ax = plt.subplots(figsize=(10, 10))\n",
    "geo_df.plot(ax=ax, color='blue', markersize=5)\n",
    "plt.title('Vessel Positions in Marine Region')\n",
    "plt.xlabel('Lon')\n",
    "plt.ylabel('Lat')\n",
    "plt.show()\n"
   ]
  },
  {
   "cell_type": "code",
   "execution_count": 20,
   "id": "d4edec79-ebde-4a0c-b543-b27f7217003f",
   "metadata": {},
   "outputs": [
    {
     "data": {
      "text/html": [
       "<div>\n",
       "<style scoped>\n",
       "    .dataframe tbody tr th:only-of-type {\n",
       "        vertical-align: middle;\n",
       "    }\n",
       "\n",
       "    .dataframe tbody tr th {\n",
       "        vertical-align: top;\n",
       "    }\n",
       "\n",
       "    .dataframe thead th {\n",
       "        text-align: right;\n",
       "    }\n",
       "</style>\n",
       "<table border=\"1\" class=\"dataframe\">\n",
       "  <thead>\n",
       "    <tr style=\"text-align: right;\">\n",
       "      <th></th>\n",
       "      <th>mmsi</th>\n",
       "      <th>timestamp</th>\n",
       "      <th>vessel_proximity</th>\n",
       "    </tr>\n",
       "  </thead>\n",
       "  <tbody>\n",
       "    <tr>\n",
       "      <th>0</th>\n",
       "      <td>218719092</td>\n",
       "      <td>2023-03-14 18:30:00+00:00</td>\n",
       "      <td>[232345740]</td>\n",
       "    </tr>\n",
       "    <tr>\n",
       "      <th>1</th>\n",
       "      <td>218719092</td>\n",
       "      <td>2023-03-15 01:30:00+00:00</td>\n",
       "      <td>[875832716, 232006548, 889799564, 232345740]</td>\n",
       "    </tr>\n",
       "    <tr>\n",
       "      <th>2</th>\n",
       "      <td>218719092</td>\n",
       "      <td>2023-03-15 02:30:00+00:00</td>\n",
       "      <td>[232006548, 889799564, 232345740, 875832716]</td>\n",
       "    </tr>\n",
       "    <tr>\n",
       "      <th>3</th>\n",
       "      <td>218719092</td>\n",
       "      <td>2023-03-15 03:30:00+00:00</td>\n",
       "      <td>[232006548, 232345740, 875832716, 889799564]</td>\n",
       "    </tr>\n",
       "    <tr>\n",
       "      <th>4</th>\n",
       "      <td>218719092</td>\n",
       "      <td>2023-03-15 04:30:00+00:00</td>\n",
       "      <td>[232006548, 889799564, 875832716, 232345740]</td>\n",
       "    </tr>\n",
       "  </tbody>\n",
       "</table>\n",
       "</div>"
      ],
      "text/plain": [
       "        mmsi                 timestamp  \\\n",
       "0  218719092 2023-03-14 18:30:00+00:00   \n",
       "1  218719092 2023-03-15 01:30:00+00:00   \n",
       "2  218719092 2023-03-15 02:30:00+00:00   \n",
       "3  218719092 2023-03-15 03:30:00+00:00   \n",
       "4  218719092 2023-03-15 04:30:00+00:00   \n",
       "\n",
       "                               vessel_proximity  \n",
       "0                                   [232345740]  \n",
       "1  [875832716, 232006548, 889799564, 232345740]  \n",
       "2  [232006548, 889799564, 232345740, 875832716]  \n",
       "3  [232006548, 232345740, 875832716, 889799564]  \n",
       "4  [232006548, 889799564, 875832716, 232345740]  "
      ]
     },
     "execution_count": 20,
     "metadata": {},
     "output_type": "execute_result"
    }
   ],
   "source": [
    "# Save the result to a CSV file\n",
    "result_df.to_csv('vessel_proximity_events.csv', index=False)\n",
    "\n",
    "# Display the final DataFrame\n",
    "result_df.head()\n"
   ]
  },
  {
   "cell_type": "code",
   "execution_count": 21,
   "id": "98674bcc-1ff5-49cd-84d8-7421b086b721",
   "metadata": {},
   "outputs": [
    {
     "data": {
      "image/png": "[encoded data removed]",
      "text/plain": [
       "<Figure size 1000x800 with 1 Axes>"
      ]
     },
     "metadata": {},
     "output_type": "display_data"
    }
   ],
   "source": [
    "plt.figure(figsize=(10, 8))\n",
    "plt.scatter(df['lon'], df['lat'], c='blue', label='Vessels')\n",
    "\n",
    "# Example: Highlight proximity events for a specific vessel\n",
    "vessel_of_interest = df[df['mmsi'] == 123456789]  # Replace with actual MMSI\n",
    "plt.scatter(vessel_of_interest['lon'], vessel_of_interest['lat'], c='red', label='Proximity Events')\n",
    "\n",
    "plt.xlabel('Lon')\n",
    "plt.ylabel('Lat')\n",
    "plt.title('Vessel Proximity Events')\n",
    "plt.legend()\n",
    "plt.grid(True)\n",
    "plt.show()\n"
   ]
  },
  {
   "cell_type": "code",
   "execution_count": null,
   "id": "b0d682bf-aeca-4c5f-8efc-898089fc26ad",
   "metadata": {},
   "outputs": [],
   "source": []
  }
 ],
 "metadata": {
  "kernelspec": {
   "display_name": "Python 3 (ipykernel)",
   "language": "python",
   "name": "python3"
  },
  "language_info": {
   "codemirror_mode": {
    "name": "ipython",
    "version": 3
   },
   "file_extension": ".py",
   "mimetype": "text/x-python",
   "name": "python",
   "nbconvert_exporter": "python",
   "pygments_lexer": "ipython3",
   "version": "3.12.3"
  }
 },
 "nbformat": 4,
 "nbformat_minor": 5
}
